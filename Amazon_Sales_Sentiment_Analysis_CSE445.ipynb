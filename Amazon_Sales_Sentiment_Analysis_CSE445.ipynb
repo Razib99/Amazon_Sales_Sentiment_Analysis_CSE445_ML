{
  "nbformat": 4,
  "nbformat_minor": 0,
  "metadata": {
    "colab": {
      "provenance": [],
      "include_colab_link": true
    },
    "kernelspec": {
      "name": "python3",
      "display_name": "Python 3"
    },
    "language_info": {
      "name": "python"
    }
  },
  "cells": [
    {
      "cell_type": "markdown",
      "metadata": {
        "id": "view-in-github",
        "colab_type": "text"
      },
      "source": [
        "<a href=\"https://colab.research.google.com/github/Razib99/Amazon_Sales_Sentiment_Analysis_CSE445_ML/blob/main/Amazon_Sales_Sentiment_Analysis_CSE445.ipynb\" target=\"_parent\"><img src=\"https://colab.research.google.com/assets/colab-badge.svg\" alt=\"Open In Colab\"/></a>"
      ]
    },
    {
      "cell_type": "code",
      "source": [
        "import pandas as pd\n",
        "import numpy as np\n",
        "import matplotlib.pyplot as plt\n",
        "import seaborn as sns\n",
        "import re\n",
        "import nltk\n",
        "from nltk.corpus import stopwords\n",
        "from nltk.stem.porter import PorterStemmer\n",
        "from sklearn.feature_extraction.text import CountVectorizer, TfidfVectorizer\n",
        "from sklearn.model_selection import train_test_split\n",
        "from sklearn.linear_model import LinearRegression, LogisticRegression\n",
        "from sklearn.naive_bayes import MultinomialNB\n",
        "from sklearn.svm import SVC\n",
        "from sklearn.neighbors import KNeighborsClassifier\n",
        "from sklearn.ensemble import RandomForestClassifier, GradientBoostingClassifier\n",
        "from xgboost import XGBClassifier\n",
        "from sklearn.metrics import accuracy_score, classification_report, confusion_matrix"
      ],
      "metadata": {
        "id": "uhefMMBVoV8w"
      },
      "execution_count": null,
      "outputs": []
    },
    {
      "cell_type": "code",
      "source": [
        "df = pd.read_csv('amazon.csv')"
      ],
      "metadata": {
        "id": "BaDems_eocGZ"
      },
      "execution_count": null,
      "outputs": []
    },
    {
      "cell_type": "code",
      "source": [
        "df.head(5)"
      ],
      "metadata": {
        "colab": {
          "base_uri": "https://localhost:8080/",
          "height": 141
        },
        "id": "eBbGGEeTor7O",
        "outputId": "692ab5b1-2579-43ae-eb76-1e516370068e"
      },
      "execution_count": null,
      "outputs": [
        {
          "output_type": "error",
          "ename": "NameError",
          "evalue": "name 'df' is not defined",
          "traceback": [
            "\u001b[0;31m---------------------------------------------------------------------------\u001b[0m",
            "\u001b[0;31mNameError\u001b[0m                                 Traceback (most recent call last)",
            "\u001b[0;32m<ipython-input-2-a29405eb924b>\u001b[0m in \u001b[0;36m<cell line: 1>\u001b[0;34m()\u001b[0m\n\u001b[0;32m----> 1\u001b[0;31m \u001b[0mdf\u001b[0m\u001b[0;34m.\u001b[0m\u001b[0mhead\u001b[0m\u001b[0;34m(\u001b[0m\u001b[0;36m5\u001b[0m\u001b[0;34m)\u001b[0m\u001b[0;34m\u001b[0m\u001b[0;34m\u001b[0m\u001b[0m\n\u001b[0m",
            "\u001b[0;31mNameError\u001b[0m: name 'df' is not defined"
          ]
        }
      ]
    },
    {
      "cell_type": "code",
      "source": [
        "df.info()\n",
        "df.isnull().sum()\n",
        "df.dropna(inplace=True)"
      ],
      "metadata": {
        "colab": {
          "base_uri": "https://localhost:8080/"
        },
        "id": "jXWfygqVo5oI",
        "outputId": "f6889985-3a13-407a-b716-a2bf08f46ff9"
      },
      "execution_count": null,
      "outputs": [
        {
          "output_type": "stream",
          "name": "stdout",
          "text": [
            "<class 'pandas.core.frame.DataFrame'>\n",
            "RangeIndex: 1465 entries, 0 to 1464\n",
            "Data columns (total 16 columns):\n",
            " #   Column               Non-Null Count  Dtype \n",
            "---  ------               --------------  ----- \n",
            " 0   product_id           1465 non-null   object\n",
            " 1   product_name         1465 non-null   object\n",
            " 2   category             1465 non-null   object\n",
            " 3   discounted_price     1465 non-null   object\n",
            " 4   actual_price         1465 non-null   object\n",
            " 5   discount_percentage  1465 non-null   object\n",
            " 6   rating               1465 non-null   object\n",
            " 7   rating_count         1463 non-null   object\n",
            " 8   about_product        1465 non-null   object\n",
            " 9   user_id              1465 non-null   object\n",
            " 10  user_name            1465 non-null   object\n",
            " 11  review_id            1465 non-null   object\n",
            " 12  review_title         1465 non-null   object\n",
            " 13  review_content       1465 non-null   object\n",
            " 14  img_link             1465 non-null   object\n",
            " 15  product_link         1465 non-null   object\n",
            "dtypes: object(16)\n",
            "memory usage: 183.2+ KB\n"
          ]
        }
      ]
    },
    {
      "cell_type": "code",
      "source": [
        "df.info()\n",
        "df.isnull().sum()"
      ],
      "metadata": {
        "colab": {
          "base_uri": "https://localhost:8080/"
        },
        "id": "w0kHVOkepLXC",
        "outputId": "7472f612-070d-4f81-f736-353ef8aa10f4"
      },
      "execution_count": null,
      "outputs": [
        {
          "output_type": "stream",
          "name": "stdout",
          "text": [
            "<class 'pandas.core.frame.DataFrame'>\n",
            "Index: 1463 entries, 0 to 1464\n",
            "Data columns (total 16 columns):\n",
            " #   Column               Non-Null Count  Dtype \n",
            "---  ------               --------------  ----- \n",
            " 0   product_id           1463 non-null   object\n",
            " 1   product_name         1463 non-null   object\n",
            " 2   category             1463 non-null   object\n",
            " 3   discounted_price     1463 non-null   object\n",
            " 4   actual_price         1463 non-null   object\n",
            " 5   discount_percentage  1463 non-null   object\n",
            " 6   rating               1463 non-null   object\n",
            " 7   rating_count         1463 non-null   object\n",
            " 8   about_product        1463 non-null   object\n",
            " 9   user_id              1463 non-null   object\n",
            " 10  user_name            1463 non-null   object\n",
            " 11  review_id            1463 non-null   object\n",
            " 12  review_title         1463 non-null   object\n",
            " 13  review_content       1463 non-null   object\n",
            " 14  img_link             1463 non-null   object\n",
            " 15  product_link         1463 non-null   object\n",
            "dtypes: object(16)\n",
            "memory usage: 194.3+ KB\n"
          ]
        },
        {
          "output_type": "execute_result",
          "data": {
            "text/plain": [
              "product_id             0\n",
              "product_name           0\n",
              "category               0\n",
              "discounted_price       0\n",
              "actual_price           0\n",
              "discount_percentage    0\n",
              "rating                 0\n",
              "rating_count           0\n",
              "about_product          0\n",
              "user_id                0\n",
              "user_name              0\n",
              "review_id              0\n",
              "review_title           0\n",
              "review_content         0\n",
              "img_link               0\n",
              "product_link           0\n",
              "dtype: int64"
            ]
          },
          "metadata": {},
          "execution_count": 9
        }
      ]
    },
    {
      "cell_type": "code",
      "source": [
        "df.dropna(inplace=True)"
      ],
      "metadata": {
        "id": "hq9qm3EqpOw0"
      },
      "execution_count": null,
      "outputs": []
    },
    {
      "cell_type": "code",
      "source": [
        "import nltk\n",
        "nltk.download('stopwords')\n",
        "from nltk.corpus import stopwords\n",
        "from nltk.stem.porter import PorterStemmer\n",
        "import re"
      ],
      "metadata": {
        "colab": {
          "base_uri": "https://localhost:8080/"
        },
        "id": "oQPj41sspV2j",
        "outputId": "bb5617b0-51c8-4b18-fd96-87d5e0ce8d28"
      },
      "execution_count": null,
      "outputs": [
        {
          "output_type": "stream",
          "name": "stderr",
          "text": [
            "[nltk_data] Downloading package stopwords to /root/nltk_data...\n",
            "[nltk_data]   Unzipping corpora/stopwords.zip.\n"
          ]
        }
      ]
    },
    {
      "cell_type": "code",
      "source": [
        "stop_words = set(stopwords.words('english'))\n",
        "ps = PorterStemmer()\n",
        "\n",
        "def preprocess_text(text):\n",
        "    text = re.sub('[^a-zA-Z]', ' ', text)\n",
        "    text = text.lower()\n",
        "    text = text.split()\n",
        "    text = [ps.stem(word) for word in text if not word in stop_words]\n",
        "    return ' '.join(text)\n",
        "\n",
        "df['cleaned_reviews'] = df['review_title'].apply(preprocess_text)"
      ],
      "metadata": {
        "id": "wTdlydwKpaAn"
      },
      "execution_count": null,
      "outputs": []
    },
    {
      "source": [
        "def assign_sentiment(rating):\n",
        "    # Convert 'rating' column to float type\n",
        "    df['rating'] = pd.to_numeric(df['rating'], errors='coerce')\n",
        "\n",
        "    # Round 'rating' column to nearest integer\n",
        "    df['rating'] = df['rating'].round().astype(int)\n",
        "\n",
        "    if rating >= 4:\n",
        "        return 1  # Positive\n",
        "    elif rating == 3:\n",
        "        return 0  # Neutral\n",
        "    else:\n",
        "        return -1  # Negative\n",
        "\n",
        "df['sentiment'] = df['rating'].apply(assign_sentiment)"
      ],
      "cell_type": "code",
      "metadata": {
        "id": "QQuxbB4WppSY"
      },
      "execution_count": null,
      "outputs": []
    },
    {
      "cell_type": "code",
      "source": [
        "# Import necessary libraries\n",
        "from sklearn.linear_model import LogisticRegression\n",
        "from sklearn.naive_bayes import MultinomialNB\n",
        "from sklearn.svm import SVC\n",
        "from sklearn.neighbors import KNeighborsClassifier\n",
        "from sklearn.ensemble import RandomForestClassifier, GradientBoostingClassifier\n",
        "from xgboost import XGBClassifier\n",
        "from sklearn.metrics import accuracy_score, classification_report, confusion_matrix\n",
        "from sklearn.preprocessing import LabelEncoder\n",
        "\n",
        "# Assuming X_train, X_test, y_train, y_test are already defined\n",
        "\n",
        "# Encode the labels\n",
        "label_encoder = LabelEncoder()\n",
        "y_train_encoded = label_encoder.fit_transform(y_train)\n",
        "y_test_encoded = label_encoder.transform(y_test)\n",
        "\n",
        "# Define the models (excluding Linear Regression)\n",
        "models = {\n",
        "    'Logistic Regression': LogisticRegression(),\n",
        "    'Naive Bayes': MultinomialNB(),\n",
        "    'SVM': SVC(),\n",
        "    'KNN': KNeighborsClassifier(n_neighbors=3),  # Adjust n_neighbors to a suitable value\n",
        "    'Random Forest': RandomForestClassifier(),\n",
        "    'Gradient Boosting': GradientBoostingClassifier(),\n",
        "    'XGBoost': XGBClassifier()\n",
        "}\n",
        "\n",
        "results = {}\n",
        "\n",
        "# Fit the models and store the results\n",
        "for name, model in models.items():\n",
        "    model.fit(X_train, y_train_encoded)\n",
        "    y_pred = model.predict(X_test)\n",
        "    y_pred_encoded = label_encoder.inverse_transform(y_pred)\n",
        "    accuracy = accuracy_score(y_test, y_pred_encoded)\n",
        "    report = classification_report(y_test, y_pred_encoded, zero_division=0)\n",
        "    confusion = confusion_matrix(y_test, y_pred_encoded)\n",
        "    results[name] = {\n",
        "        'accuracy': accuracy,\n",
        "        'classification_report': report,\n",
        "        'confusion_matrix': confusion\n",
        "    }\n",
        "\n",
        "# Print the results\n",
        "for name, result in results.items():\n",
        "    print(f\"Model: {name}\")\n",
        "    print(f\"Accuracy: {result['accuracy']}\")\n",
        "    print(f\"Classification Report:\\n{result['classification_report']}\")\n",
        "    print(f\"Confusion Matrix:\\n{result['confusion_matrix']}\\n\")"
      ],
      "metadata": {
        "colab": {
          "base_uri": "https://localhost:8080/"
        },
        "id": "NbTGRVudsugB",
        "outputId": "9a9c4ad2-6288-49fd-a37c-737ccaa49f63"
      },
      "execution_count": null,
      "outputs": [
        {
          "output_type": "stream",
          "name": "stdout",
          "text": [
            "Model: Logistic Regression\n",
            "Accuracy: 0.9590443686006825\n",
            "Classification Report:\n",
            "              precision    recall  f1-score   support\n",
            "\n",
            "           0       0.00      0.00      0.00        12\n",
            "           1       0.96      1.00      0.98       281\n",
            "\n",
            "    accuracy                           0.96       293\n",
            "   macro avg       0.48      0.50      0.49       293\n",
            "weighted avg       0.92      0.96      0.94       293\n",
            "\n",
            "Confusion Matrix:\n",
            "[[  0  12]\n",
            " [  0 281]]\n",
            "\n",
            "Model: Naive Bayes\n",
            "Accuracy: 0.9590443686006825\n",
            "Classification Report:\n",
            "              precision    recall  f1-score   support\n",
            "\n",
            "           0       0.00      0.00      0.00        12\n",
            "           1       0.96      1.00      0.98       281\n",
            "\n",
            "    accuracy                           0.96       293\n",
            "   macro avg       0.48      0.50      0.49       293\n",
            "weighted avg       0.92      0.96      0.94       293\n",
            "\n",
            "Confusion Matrix:\n",
            "[[  0  12]\n",
            " [  0 281]]\n",
            "\n",
            "Model: SVM\n",
            "Accuracy: 0.962457337883959\n",
            "Classification Report:\n",
            "              precision    recall  f1-score   support\n",
            "\n",
            "           0       1.00      0.08      0.15        12\n",
            "           1       0.96      1.00      0.98       281\n",
            "\n",
            "    accuracy                           0.96       293\n",
            "   macro avg       0.98      0.54      0.57       293\n",
            "weighted avg       0.96      0.96      0.95       293\n",
            "\n",
            "Confusion Matrix:\n",
            "[[  1  11]\n",
            " [  0 281]]\n",
            "\n",
            "Model: KNN\n",
            "Accuracy: 0.9590443686006825\n",
            "Classification Report:\n",
            "              precision    recall  f1-score   support\n",
            "\n",
            "           0       0.50      0.08      0.14        12\n",
            "           1       0.96      1.00      0.98       281\n",
            "\n",
            "    accuracy                           0.96       293\n",
            "   macro avg       0.73      0.54      0.56       293\n",
            "weighted avg       0.94      0.96      0.94       293\n",
            "\n",
            "Confusion Matrix:\n",
            "[[  1  11]\n",
            " [  1 280]]\n",
            "\n",
            "Model: Random Forest\n",
            "Accuracy: 0.9658703071672355\n",
            "Classification Report:\n",
            "              precision    recall  f1-score   support\n",
            "\n",
            "           0       1.00      0.17      0.29        12\n",
            "           1       0.97      1.00      0.98       281\n",
            "\n",
            "    accuracy                           0.97       293\n",
            "   macro avg       0.98      0.58      0.63       293\n",
            "weighted avg       0.97      0.97      0.95       293\n",
            "\n",
            "Confusion Matrix:\n",
            "[[  2  10]\n",
            " [  0 281]]\n",
            "\n",
            "Model: Gradient Boosting\n",
            "Accuracy: 0.9658703071672355\n",
            "Classification Report:\n",
            "              precision    recall  f1-score   support\n",
            "\n",
            "           0       1.00      0.17      0.29        12\n",
            "           1       0.97      1.00      0.98       281\n",
            "\n",
            "    accuracy                           0.97       293\n",
            "   macro avg       0.98      0.58      0.63       293\n",
            "weighted avg       0.97      0.97      0.95       293\n",
            "\n",
            "Confusion Matrix:\n",
            "[[  2  10]\n",
            " [  0 281]]\n",
            "\n",
            "Model: XGBoost\n",
            "Accuracy: 0.9658703071672355\n",
            "Classification Report:\n",
            "              precision    recall  f1-score   support\n",
            "\n",
            "           0       1.00      0.17      0.29        12\n",
            "           1       0.97      1.00      0.98       281\n",
            "\n",
            "    accuracy                           0.97       293\n",
            "   macro avg       0.98      0.58      0.63       293\n",
            "weighted avg       0.97      0.97      0.95       293\n",
            "\n",
            "Confusion Matrix:\n",
            "[[  2  10]\n",
            " [  0 281]]\n",
            "\n"
          ]
        }
      ]
    }
  ]
}