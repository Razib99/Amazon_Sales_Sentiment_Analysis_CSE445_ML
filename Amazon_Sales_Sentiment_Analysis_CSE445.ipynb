{
  "nbformat": 4,
  "nbformat_minor": 0,
  "metadata": {
    "colab": {
      "provenance": [],
      "include_colab_link": true
    },
    "kernelspec": {
      "name": "python3",
      "display_name": "Python 3"
    },
    "language_info": {
      "name": "python"
    }
  },
  "cells": [
    {
      "cell_type": "markdown",
      "metadata": {
        "id": "view-in-github",
        "colab_type": "text"
      },
      "source": [
        "<a href=\"https://colab.research.google.com/github/Razib99/Amazon_Sales_Sentiment_Analysis_CSE445_ML/blob/main/Amazon_Sales_Sentiment_Analysis_CSE445.ipynb\" target=\"_parent\"><img src=\"https://colab.research.google.com/assets/colab-badge.svg\" alt=\"Open In Colab\"/></a>"
      ]
    },
    {
      "cell_type": "code",
      "source": [
        "import pandas as pd\n",
        "import numpy as np\n",
        "from sklearn.feature_extraction.text import CountVectorizer, TfidfVectorizer\n",
        "from sklearn.model_selection import train_test_split\n",
        "from sklearn.naive_bayes import MultinomialNB\n",
        "from sklearn.svm import SVC\n",
        "from sklearn.neighbors import KNeighborsClassifier\n",
        "from sklearn.ensemble import RandomForestClassifier\n",
        "from xgboost import XGBClassifier\n",
        "from sklearn.preprocessing import LabelEncoder\n",
        "from sklearn.metrics import accuracy_score, classification_report, confusion_matrix\n",
        "import nltk\n",
        "from nltk.corpus import stopwords\n",
        "from nltk.stem.porter import PorterStemmer\n",
        "import re"
      ],
      "metadata": {
        "id": "uhefMMBVoV8w"
      },
      "execution_count": 1,
      "outputs": []
    },
    {
      "cell_type": "code",
      "source": [
        "# Loading dataset\n",
        "from google.colab import drive\n",
        "path = \"/content/amazon.csv\"\n",
        "df = pd.read_csv(path)"
      ],
      "metadata": {
        "id": "BGdPE1Ddknin"
      },
      "execution_count": 4,
      "outputs": []
    },
    {
      "cell_type": "code",
      "source": [
        "# Displaying initial information\n",
        "print(df.head(5))\n",
        "print(df.info())\n",
        "print(df.isnull().sum())"
      ],
      "metadata": {
        "colab": {
          "base_uri": "https://localhost:8080/"
        },
        "id": "eBbGGEeTor7O",
        "outputId": "eb7e0f29-1afb-4ba3-de5e-19010fc6f07a"
      },
      "execution_count": 5,
      "outputs": [
        {
          "output_type": "stream",
          "name": "stdout",
          "text": [
            "   product_id                                       product_name  \\\n",
            "0  B07JW9H4J1  Wayona Nylon Braided USB to Lightning Fast Cha...   \n",
            "1  B098NS6PVG  Ambrane Unbreakable 60W / 3A Fast Charging 1.5...   \n",
            "2  B096MSW6CT  Sounce Fast Phone Charging Cable & Data Sync U...   \n",
            "3  B08HDJ86NZ  boAt Deuce USB 300 2 in 1 Type-C & Micro USB S...   \n",
            "4  B08CF3B7N1  Portronics Konnect L 1.2M Fast Charging 3A 8 P...   \n",
            "\n",
            "                                            category discounted_price  \\\n",
            "0  Computers&Accessories|Accessories&Peripherals|...             ₹399   \n",
            "1  Computers&Accessories|Accessories&Peripherals|...             ₹199   \n",
            "2  Computers&Accessories|Accessories&Peripherals|...             ₹199   \n",
            "3  Computers&Accessories|Accessories&Peripherals|...             ₹329   \n",
            "4  Computers&Accessories|Accessories&Peripherals|...             ₹154   \n",
            "\n",
            "  actual_price discount_percentage rating rating_count  \\\n",
            "0       ₹1,099                 64%    4.2       24,269   \n",
            "1         ₹349                 43%    4.0       43,994   \n",
            "2       ₹1,899                 90%    3.9        7,928   \n",
            "3         ₹699                 53%    4.2       94,363   \n",
            "4         ₹399                 61%    4.2       16,905   \n",
            "\n",
            "                                       about_product  \\\n",
            "0  High Compatibility : Compatible With iPhone 12...   \n",
            "1  Compatible with all Type C enabled devices, be...   \n",
            "2  【 Fast Charger& Data Sync】-With built-in safet...   \n",
            "3  The boAt Deuce USB 300 2 in 1 cable is compati...   \n",
            "4  [CHARGE & SYNC FUNCTION]- This cable comes wit...   \n",
            "\n",
            "                                             user_id  \\\n",
            "0  AG3D6O4STAQKAY2UVGEUV46KN35Q,AHMY5CWJMMK5BJRBB...   \n",
            "1  AECPFYFQVRUWC3KGNLJIOREFP5LQ,AGYYVPDD7YG7FYNBX...   \n",
            "2  AGU3BBQ2V2DDAMOAKGFAWDDQ6QHA,AESFLDV2PT363T2AQ...   \n",
            "3  AEWAZDZZJLQUYVOVGBEUKSLXHQ5A,AG5HTSFRRE6NL3M5S...   \n",
            "4  AE3Q6KSUK5P75D5HFYHCRAOLODSA,AFUGIFH5ZAFXRDSZH...   \n",
            "\n",
            "                                           user_name  \\\n",
            "0  Manav,Adarsh gupta,Sundeep,S.Sayeed Ahmed,jasp...   \n",
            "1  ArdKn,Nirbhay kumar,Sagar Viswanathan,Asp,Plac...   \n",
            "2  Kunal,Himanshu,viswanath,sai niharka,saqib mal...   \n",
            "3  Omkar dhale,JD,HEMALATHA,Ajwadh a.,amar singh ...   \n",
            "4  rahuls6099,Swasat Borah,Ajay Wadke,Pranali,RVK...   \n",
            "\n",
            "                                           review_id  \\\n",
            "0  R3HXWT0LRP0NMF,R2AJM3LFTLZHFO,R6AQJGUP6P86,R1K...   \n",
            "1  RGIQEG07R9HS2,R1SMWZQ86XIN8U,R2J3Y1WL29GWDE,RY...   \n",
            "2  R3J3EQQ9TZI5ZJ,R3E7WBGK7ID0KV,RWU79XKQ6I1QF,R2...   \n",
            "3  R3EEUZKKK9J36I,R3HJVYCLYOY554,REDECAZ7AMPQC,R1...   \n",
            "4  R1BP4L2HH9TFUP,R16PVJEXKV6QZS,R2UPDB81N66T4P,R...   \n",
            "\n",
            "                                        review_title  \\\n",
            "0  Satisfied,Charging is really fast,Value for mo...   \n",
            "1  A Good Braided Cable for Your Type C Device,Go...   \n",
            "2  Good speed for earlier versions,Good Product,W...   \n",
            "3  Good product,Good one,Nice,Really nice product...   \n",
            "4  As good as original,Decent,Good one for second...   \n",
            "\n",
            "                                      review_content  \\\n",
            "0  Looks durable Charging is fine tooNo complains...   \n",
            "1  I ordered this cable to connect my phone to An...   \n",
            "2  Not quite durable and sturdy,https://m.media-a...   \n",
            "3  Good product,long wire,Charges good,Nice,I bou...   \n",
            "4  Bought this instead of original apple, does th...   \n",
            "\n",
            "                                            img_link  \\\n",
            "0  https://m.media-amazon.com/images/W/WEBP_40237...   \n",
            "1  https://m.media-amazon.com/images/W/WEBP_40237...   \n",
            "2  https://m.media-amazon.com/images/W/WEBP_40237...   \n",
            "3  https://m.media-amazon.com/images/I/41V5FtEWPk...   \n",
            "4  https://m.media-amazon.com/images/W/WEBP_40237...   \n",
            "\n",
            "                                        product_link  \n",
            "0  https://www.amazon.in/Wayona-Braided-WN3LG1-Sy...  \n",
            "1  https://www.amazon.in/Ambrane-Unbreakable-Char...  \n",
            "2  https://www.amazon.in/Sounce-iPhone-Charging-C...  \n",
            "3  https://www.amazon.in/Deuce-300-Resistant-Tang...  \n",
            "4  https://www.amazon.in/Portronics-Konnect-POR-1...  \n",
            "<class 'pandas.core.frame.DataFrame'>\n",
            "RangeIndex: 1465 entries, 0 to 1464\n",
            "Data columns (total 16 columns):\n",
            " #   Column               Non-Null Count  Dtype \n",
            "---  ------               --------------  ----- \n",
            " 0   product_id           1465 non-null   object\n",
            " 1   product_name         1465 non-null   object\n",
            " 2   category             1465 non-null   object\n",
            " 3   discounted_price     1465 non-null   object\n",
            " 4   actual_price         1465 non-null   object\n",
            " 5   discount_percentage  1465 non-null   object\n",
            " 6   rating               1465 non-null   object\n",
            " 7   rating_count         1463 non-null   object\n",
            " 8   about_product        1465 non-null   object\n",
            " 9   user_id              1465 non-null   object\n",
            " 10  user_name            1465 non-null   object\n",
            " 11  review_id            1465 non-null   object\n",
            " 12  review_title         1465 non-null   object\n",
            " 13  review_content       1465 non-null   object\n",
            " 14  img_link             1465 non-null   object\n",
            " 15  product_link         1465 non-null   object\n",
            "dtypes: object(16)\n",
            "memory usage: 183.2+ KB\n",
            "None\n",
            "product_id             0\n",
            "product_name           0\n",
            "category               0\n",
            "discounted_price       0\n",
            "actual_price           0\n",
            "discount_percentage    0\n",
            "rating                 0\n",
            "rating_count           2\n",
            "about_product          0\n",
            "user_id                0\n",
            "user_name              0\n",
            "review_id              0\n",
            "review_title           0\n",
            "review_content         0\n",
            "img_link               0\n",
            "product_link           0\n",
            "dtype: int64\n"
          ]
        }
      ]
    },
    {
      "cell_type": "code",
      "source": [
        "# Preprocessing the data\n",
        "nltk.download('stopwords')\n",
        "stop_words = set(stopwords.words('english'))\n",
        "ps = PorterStemmer()\n",
        "\n",
        "def clean_text(text):\n",
        "    text = re.sub('[^a-zA-Z]', ' ', text)\n",
        "    text = text.lower().split()\n",
        "    text = [ps.stem(word) for word in text if word not in stop_words]\n",
        "    return ' '.join(text)\n",
        "\n",
        "df['cleaned_reviews'] = df['review_title'].apply(clean_text) # Change preprocess_text to clean_text"
      ],
      "metadata": {
        "colab": {
          "base_uri": "https://localhost:8080/"
        },
        "id": "jXWfygqVo5oI",
        "outputId": "3ad82a58-6cbb-448d-c344-f155b9fb8995"
      },
      "execution_count": 8,
      "outputs": [
        {
          "output_type": "stream",
          "name": "stderr",
          "text": [
            "[nltk_data] Downloading package stopwords to /root/nltk_data...\n",
            "[nltk_data]   Package stopwords is already up-to-date!\n"
          ]
        }
      ]
    },
    {
      "cell_type": "code",
      "source": [
        "# Converting 'rating' column to float type, coerce errors to NaN\n",
        "df['rating'] = pd.to_numeric(df['rating'], errors='coerce')"
      ],
      "metadata": {
        "id": "w0kHVOkepLXC"
      },
      "execution_count": 9,
      "outputs": []
    },
    {
      "cell_type": "code",
      "source": [
        "import nltk\n",
        "nltk.download('stopwords')\n",
        "from nltk.corpus import stopwords\n",
        "from nltk.stem.porter import PorterStemmer\n",
        "import re"
      ],
      "metadata": {
        "colab": {
          "base_uri": "https://localhost:8080/"
        },
        "id": "oQPj41sspV2j",
        "outputId": "dabace16-7848-4609-9310-4d8d5f78aa09"
      },
      "execution_count": null,
      "outputs": [
        {
          "output_type": "stream",
          "name": "stderr",
          "text": [
            "[nltk_data] Downloading package stopwords to /root/nltk_data...\n",
            "[nltk_data]   Unzipping corpora/stopwords.zip.\n"
          ]
        }
      ]
    },
    {
      "cell_type": "code",
      "source": [
        "# Filling NaN values with a default value, for example, 0\n",
        "df['rating'].fillna(0, inplace=True)"
      ],
      "metadata": {
        "id": "A2LTmqIHondR"
      },
      "execution_count": 10,
      "outputs": []
    },
    {
      "cell_type": "code",
      "source": [
        "# Rounding 'rating' column to nearest integer\n",
        "df['rating'] = df['rating'].round().astype(int)"
      ],
      "metadata": {
        "id": "c2q7e8pQo2pF"
      },
      "execution_count": 11,
      "outputs": []
    },
    {
      "cell_type": "code",
      "source": [
        "# Applying the 'assign_sentiment' function to each element in the 'rating' column\n",
        "def assign_sentiment(rating):\n",
        "    if rating >= 4:\n",
        "        return 1  # Positive\n",
        "    elif rating == 3:\n",
        "        return 0  # Neutral\n",
        "    else:\n",
        "        return -1  # Negative\n",
        "\n",
        "df['sentiment'] = df['rating'].apply(assign_sentiment)"
      ],
      "metadata": {
        "id": "ic5EKLvxo5Ub"
      },
      "execution_count": 12,
      "outputs": []
    },
    {
      "cell_type": "code",
      "source": [
        "# Feature extraction\n",
        "vectorizer = TfidfVectorizer(max_features=5000)\n",
        "X = vectorizer.fit_transform(df['review_title']).toarray()\n",
        "y = df['sentiment']"
      ],
      "metadata": {
        "id": "AFtTH7OHo75R"
      },
      "execution_count": 13,
      "outputs": []
    },
    {
      "cell_type": "code",
      "source": [
        "# Splitting the data\n",
        "X_train, X_test, y_train, y_test = train_test_split(X, y, test_size=0.2, random_state=42, stratify=y)"
      ],
      "metadata": {
        "id": "1P5to4soo_FE"
      },
      "execution_count": 14,
      "outputs": []
    },
    {
      "cell_type": "code",
      "source": [
        "# Encoding the labels\n",
        "label_encoder = LabelEncoder()\n",
        "y_train_encoded = label_encoder.fit_transform(y_train)\n",
        "y_test_encoded = label_encoder.transform(y_test)"
      ],
      "metadata": {
        "id": "LqLt70UfpBbx"
      },
      "execution_count": 15,
      "outputs": []
    },
    {
      "cell_type": "code",
      "source": [
        "# Models to train\n",
        "models = {\n",
        "    'Naive Bayes': MultinomialNB(),\n",
        "    'SVM': SVC(probability=True),\n",
        "    'KNN': KNeighborsClassifier(n_neighbors=3),\n",
        "    'Random Forest': RandomForestClassifier(),\n",
        "    'XGBoost': XGBClassifier(use_label_encoder=False, eval_metric='logloss')\n",
        "}\n",
        "\n",
        "results = {}"
      ],
      "metadata": {
        "id": "LgPG3dpdpDq2"
      },
      "execution_count": 16,
      "outputs": []
    },
    {
      "cell_type": "code",
      "source": [
        "# Fitting the models and storing the results\n",
        "for name, model in models.items():\n",
        "    model.fit(X_train, y_train_encoded)\n",
        "    y_pred = model.predict(X_test)\n",
        "    accuracy = accuracy_score(y_test_encoded, y_pred)\n",
        "    report = classification_report(y_test_encoded, y_pred, zero_division=0)\n",
        "    confusion = confusion_matrix(y_test_encoded, y_pred)\n",
        "    results[name] = {\n",
        "        'accuracy': accuracy,\n",
        "        'classification_report': report,\n",
        "        'confusion_matrix': confusion\n",
        "    }"
      ],
      "metadata": {
        "id": "VD-l0VhupGS9"
      },
      "execution_count": 17,
      "outputs": []
    },
    {
      "cell_type": "code",
      "source": [
        "# Printing the results\n",
        "for name, result in results.items():\n",
        "    print(f\"Model: {name}\")\n",
        "    print(f\"Accuracy: {result['accuracy']}\")\n",
        "    print(f\"Classification Report:\\n{result['classification_report']}\")\n",
        "    print(f\"Confusion Matrix:\\n{result['confusion_matrix']}\\n\")"
      ],
      "metadata": {
        "colab": {
          "base_uri": "https://localhost:8080/"
        },
        "id": "-clHKi-NpJyL",
        "outputId": "8da3f98f-ed3c-4fc9-f3e0-b75a9991f652"
      },
      "execution_count": 18,
      "outputs": [
        {
          "output_type": "stream",
          "name": "stdout",
          "text": [
            "Model: Naive Bayes\n",
            "Accuracy: 0.9692832764505119\n",
            "Classification Report:\n",
            "              precision    recall  f1-score   support\n",
            "\n",
            "           0       0.00      0.00      0.00         1\n",
            "           1       0.00      0.00      0.00         8\n",
            "           2       0.97      1.00      0.98       284\n",
            "\n",
            "    accuracy                           0.97       293\n",
            "   macro avg       0.32      0.33      0.33       293\n",
            "weighted avg       0.94      0.97      0.95       293\n",
            "\n",
            "Confusion Matrix:\n",
            "[[  0   0   1]\n",
            " [  0   0   8]\n",
            " [  0   0 284]]\n",
            "\n",
            "Model: SVM\n",
            "Accuracy: 0.9692832764505119\n",
            "Classification Report:\n",
            "              precision    recall  f1-score   support\n",
            "\n",
            "           0       0.00      0.00      0.00         1\n",
            "           1       0.00      0.00      0.00         8\n",
            "           2       0.97      1.00      0.98       284\n",
            "\n",
            "    accuracy                           0.97       293\n",
            "   macro avg       0.32      0.33      0.33       293\n",
            "weighted avg       0.94      0.97      0.95       293\n",
            "\n",
            "Confusion Matrix:\n",
            "[[  0   0   1]\n",
            " [  0   0   8]\n",
            " [  0   0 284]]\n",
            "\n",
            "Model: KNN\n",
            "Accuracy: 0.962457337883959\n",
            "Classification Report:\n",
            "              precision    recall  f1-score   support\n",
            "\n",
            "           0       0.00      0.00      0.00         1\n",
            "           1       0.00      0.00      0.00         8\n",
            "           2       0.97      0.99      0.98       284\n",
            "\n",
            "    accuracy                           0.96       293\n",
            "   macro avg       0.32      0.33      0.33       293\n",
            "weighted avg       0.94      0.96      0.95       293\n",
            "\n",
            "Confusion Matrix:\n",
            "[[  0   0   1]\n",
            " [  0   0   8]\n",
            " [  0   2 282]]\n",
            "\n",
            "Model: Random Forest\n",
            "Accuracy: 0.9692832764505119\n",
            "Classification Report:\n",
            "              precision    recall  f1-score   support\n",
            "\n",
            "           0       0.00      0.00      0.00         1\n",
            "           1       0.00      0.00      0.00         8\n",
            "           2       0.97      1.00      0.98       284\n",
            "\n",
            "    accuracy                           0.97       293\n",
            "   macro avg       0.32      0.33      0.33       293\n",
            "weighted avg       0.94      0.97      0.95       293\n",
            "\n",
            "Confusion Matrix:\n",
            "[[  0   0   1]\n",
            " [  0   0   8]\n",
            " [  0   0 284]]\n",
            "\n",
            "Model: XGBoost\n",
            "Accuracy: 0.9658703071672355\n",
            "Classification Report:\n",
            "              precision    recall  f1-score   support\n",
            "\n",
            "           0       0.00      0.00      0.00         1\n",
            "           1       0.00      0.00      0.00         8\n",
            "           2       0.97      1.00      0.98       284\n",
            "\n",
            "    accuracy                           0.97       293\n",
            "   macro avg       0.32      0.33      0.33       293\n",
            "weighted avg       0.94      0.97      0.95       293\n",
            "\n",
            "Confusion Matrix:\n",
            "[[  0   0   1]\n",
            " [  0   0   8]\n",
            " [  0   1 283]]\n",
            "\n"
          ]
        }
      ]
    }
  ]
}